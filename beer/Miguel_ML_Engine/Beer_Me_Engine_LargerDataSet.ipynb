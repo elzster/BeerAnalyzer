{
 "cells": [
  {
   "cell_type": "code",
   "execution_count": 45,
   "metadata": {},
   "outputs": [],
   "source": [
    "# Import Libraries\n",
    "import pandas as pd\n",
    "import numpy as np\n",
    "import databricks.koalas as ks\n",
    "\n",
    "from sklearn.feature_extraction.text import CountVectorizer\n",
    "from sklearn.metrics.pairwise import cosine_similarity"
   ]
  },
  {
   "cell_type": "code",
   "execution_count": 46,
   "metadata": {},
   "outputs": [],
   "source": [
    "# Print only 5000 rows for smaller sample\n",
    "df_combined_features = pd.read_csv('data/df_combined_features.csv')\n",
    "# df_5000.sample(n=500).to_csv('df500.csv')\n",
    "# Helper function to get the title from the index\n",
    "def get_title_from_index (index):\n",
    "    return df_combined_features[df_combined_features.index == index][\"beer_name\"].values[0]\n",
    "\n",
    "# # Helper function to get the index from the title\n",
    "def get_index_from_title(beer_name):\n",
    "    return df_combined_features[df_combined_features.beer_name == beer_name][\"index\"].values[0]"
   ]
  },
  {
   "cell_type": "code",
   "execution_count": 47,
   "metadata": {},
   "outputs": [
    {
     "data": {
      "text/html": [
       "<div>\n",
       "<style scoped>\n",
       "    .dataframe tbody tr th:only-of-type {\n",
       "        vertical-align: middle;\n",
       "    }\n",
       "\n",
       "    .dataframe tbody tr th {\n",
       "        vertical-align: top;\n",
       "    }\n",
       "\n",
       "    .dataframe thead th {\n",
       "        text-align: right;\n",
       "    }\n",
       "</style>\n",
       "<table border=\"1\" class=\"dataframe\">\n",
       "  <thead>\n",
       "    <tr style=\"text-align: right;\">\n",
       "      <th></th>\n",
       "      <th>index</th>\n",
       "      <th>brewery_name</th>\n",
       "      <th>review_profilename</th>\n",
       "      <th>beer_style</th>\n",
       "      <th>beer_name</th>\n",
       "      <th>beer_abv</th>\n",
       "      <th>combined_features</th>\n",
       "    </tr>\n",
       "  </thead>\n",
       "  <tbody>\n",
       "    <tr>\n",
       "      <th>0</th>\n",
       "      <td>0</td>\n",
       "      <td>Vecchio Birraio</td>\n",
       "      <td>stcules</td>\n",
       "      <td>Hefeweizen</td>\n",
       "      <td>Sausa Weizen</td>\n",
       "      <td>5.0</td>\n",
       "      <td>Hefeweizen Vecchio Birraio stcules</td>\n",
       "    </tr>\n",
       "    <tr>\n",
       "      <th>1</th>\n",
       "      <td>1</td>\n",
       "      <td>Vecchio Birraio</td>\n",
       "      <td>stcules</td>\n",
       "      <td>English Strong Ale</td>\n",
       "      <td>Red Moon</td>\n",
       "      <td>6.2</td>\n",
       "      <td>English Strong Ale Vecchio Birraio stcules</td>\n",
       "    </tr>\n",
       "    <tr>\n",
       "      <th>2</th>\n",
       "      <td>2</td>\n",
       "      <td>Vecchio Birraio</td>\n",
       "      <td>stcules</td>\n",
       "      <td>Foreign / Export Stout</td>\n",
       "      <td>Black Horse Black Beer</td>\n",
       "      <td>6.5</td>\n",
       "      <td>Foreign / Export Stout Vecchio Birraio stcules</td>\n",
       "    </tr>\n",
       "  </tbody>\n",
       "</table>\n",
       "</div>"
      ],
      "text/plain": [
       "   index     brewery_name review_profilename              beer_style  \\\n",
       "0      0  Vecchio Birraio            stcules              Hefeweizen   \n",
       "1      1  Vecchio Birraio            stcules      English Strong Ale   \n",
       "2      2  Vecchio Birraio            stcules  Foreign / Export Stout   \n",
       "\n",
       "                beer_name  beer_abv  \\\n",
       "0            Sausa Weizen       5.0   \n",
       "1                Red Moon       6.2   \n",
       "2  Black Horse Black Beer       6.5   \n",
       "\n",
       "                                combined_features  \n",
       "0              Hefeweizen Vecchio Birraio stcules  \n",
       "1      English Strong Ale Vecchio Birraio stcules  \n",
       "2  Foreign / Export Stout Vecchio Birraio stcules  "
      ]
     },
     "execution_count": 47,
     "metadata": {},
     "output_type": "execute_result"
    }
   ],
   "source": [
    "df_combined_features.drop(['Unnamed: 0', 'review_time', 'review_overall','review_aroma','review_appearance', 'review_palate', 'review_taste', 'beer_beerid', 'brewery_id'], axis=1, inplace=True)\n",
    "df_combined_features.head(3)"
   ]
  },
  {
   "cell_type": "code",
   "execution_count": 4,
   "metadata": {},
   "outputs": [],
   "source": [
    "# Convert a collection of text to a matrix of token counts\n",
    "count_matrix = CountVectorizer().fit_transform(df_combined_features[\"combined_features\"])"
   ]
  },
  {
   "cell_type": "code",
   "execution_count": 6,
   "metadata": {},
   "outputs": [],
   "source": [
    "# Get the cosine similarity matrix from the count matrix\n",
    "cosine_sim = cosine_similarity(count_matrix)"
   ]
  },
  {
   "cell_type": "code",
   "execution_count": 7,
   "metadata": {},
   "outputs": [],
   "source": [
    "# print(cosine_sim)"
   ]
  },
  {
   "cell_type": "code",
   "execution_count": 8,
   "metadata": {},
   "outputs": [
    {
     "data": {
      "text/plain": [
       "(44075, 44075)"
      ]
     },
     "execution_count": 8,
     "metadata": {},
     "output_type": "execute_result"
    }
   ],
   "source": [
    "# Get the number of rows and columns in cosine_sim\n",
    "cosine_sim.shape"
   ]
  },
  {
   "cell_type": "code",
   "execution_count": 32,
   "metadata": {},
   "outputs": [
    {
     "name": "stdout",
     "output_type": "stream",
     "text": [
      "Index : 245\n",
      "Beer Name: Brown Ale\n"
     ]
    }
   ],
   "source": [
    "# Testing index - trying to match index with beer_name\n",
    "print(f'Index : {df_combined_features[\"index\"][245]}')\n",
    "print(f'Beer Name: {df_combined_features[\"beer_name\"][245]}')"
   ]
  },
  {
   "cell_type": "code",
   "execution_count": 33,
   "metadata": {},
   "outputs": [
    {
     "name": "stdout",
     "output_type": "stream",
     "text": [
      "Beer Name: Brown Ale\n"
     ]
    }
   ],
   "source": [
    "# Get the title of the beer that the user likes\n",
    "beer_user_likes = input(\"Beer Name: \")\n",
    "\n",
    "# Find that movies index\n",
    "beer_index = get_index_from_title(beer_user_likes)"
   ]
  },
  {
   "cell_type": "code",
   "execution_count": 34,
   "metadata": {},
   "outputs": [
    {
     "data": {
      "text/plain": [
       "245"
      ]
     },
     "execution_count": 34,
     "metadata": {},
     "output_type": "execute_result"
    }
   ],
   "source": [
    "# Beer location\n",
    "beer_index"
   ]
  },
  {
   "cell_type": "code",
   "execution_count": 35,
   "metadata": {},
   "outputs": [],
   "source": [
    "# Enumerate through all the similarity scores of the beer_user_likes to make\n",
    "# a tuple of \"beer_index\" and similarity scores\n",
    "# NOTE: we will return a list of tuples in the form (beer_index, similarity score)\n",
    "\n",
    "similar_beers = list(enumerate(cosine_sim[beer_index]))"
   ]
  },
  {
   "cell_type": "code",
   "execution_count": 36,
   "metadata": {},
   "outputs": [],
   "source": [
    "# similar_beers"
   ]
  },
  {
   "cell_type": "code",
   "execution_count": 37,
   "metadata": {},
   "outputs": [],
   "source": [
    "# Sort the list of silimar beers sccording to the similarity scores in decending order\n",
    "sorted_similar_beers = sorted(similar_beers,key = lambda x:x[1], reverse = True)[1:]"
   ]
  },
  {
   "cell_type": "code",
   "execution_count": 38,
   "metadata": {},
   "outputs": [],
   "source": [
    "# sorted_similar_beers"
   ]
  },
  {
   "cell_type": "code",
   "execution_count": 39,
   "metadata": {},
   "outputs": [
    {
     "name": "stdout",
     "output_type": "stream",
     "text": [
      "Top 5 beers similar to 'Brown Ale' are: \n",
      "\n",
      "------------------------------------------------------------\n",
      "\n",
      "* Beer Name: IPA\n",
      "\n",
      "* Beer Name: Boatswain H.L.V. Ale (Heavy Lift Vessel)\n",
      "\n",
      "* Beer Name: Duck-Rabbit Brown Ale\n",
      "\n",
      "* Beer Name: Ipswich Dark Ale\n",
      "\n",
      "* Beer Name: Farmington River Brown Ale\n",
      "\n",
      "------------------------------------------------------------\n"
     ]
    }
   ],
   "source": [
    "# Looping to find similar beers, using the helper functions\n",
    "i=0\n",
    "print(f\"Top 5 beers similar to '{beer_user_likes}' are: \")\n",
    "print(f\"\\n------------------------------------------------------------\")\n",
    "for element in sorted_similar_beers:\n",
    "    print(f\"\\n* Beer Name: {get_title_from_index(element[0])}\")\n",
    "    i=i+1\n",
    "    if i>=5:\n",
    "        break\n",
    "\n",
    "print(f\"\\n------------------------------------------------------------\")"
   ]
  },
  {
   "cell_type": "code",
   "execution_count": 40,
   "metadata": {},
   "outputs": [
    {
     "name": "stdout",
     "output_type": "stream",
     "text": [
      "Top 5 beers similar to 'Brown Ale' are: \n",
      "\n",
      "------------------------------------------------------------\n",
      "\n",
      "* Beer Name: IPA \n",
      "* Similarity Score:  0.7715167498104596\n",
      "\n",
      "* Beer Name: Boatswain H.L.V. Ale (Heavy Lift Vessel) \n",
      "* Similarity Score:  0.7142857142857141\n",
      "\n",
      "* Beer Name: Duck-Rabbit Brown Ale \n",
      "* Similarity Score:  0.6299407883487119\n",
      "\n",
      "* Beer Name: Ipswich Dark Ale \n",
      "* Similarity Score:  0.6299407883487119\n",
      "\n",
      "* Beer Name: Farmington River Brown Ale \n",
      "* Similarity Score:  0.6299407883487119\n",
      "\n",
      "------------------------------------------------------------\n"
     ]
    }
   ],
   "source": [
    "# Printing beer names and similarity scores\n",
    "i=0\n",
    "print(f\"Top 5 beers similar to '{beer_user_likes}' are: \")\n",
    "print(f\"\\n------------------------------------------------------------\")\n",
    "for i in range( len(sorted_similar_beers)):\n",
    "    print('\\n* Beer Name:',get_title_from_index(sorted_similar_beers[i][0]), '\\n* Similarity Score: ' ,sorted_similar_beers[i][1] )\n",
    "    i=i+1\n",
    "    if i>=5:\n",
    "        break \n",
    "\n",
    "print(f\"\\n------------------------------------------------------------\")"
   ]
  },
  {
   "cell_type": "code",
   "execution_count": null,
   "metadata": {},
   "outputs": [],
   "source": []
  }
 ],
 "metadata": {
  "kernelspec": {
   "display_name": "Python 3",
   "language": "python",
   "name": "python3"
  },
  "language_info": {
   "codemirror_mode": {
    "name": "ipython",
    "version": 3
   },
   "file_extension": ".py",
   "mimetype": "text/x-python",
   "name": "python",
   "nbconvert_exporter": "python",
   "pygments_lexer": "ipython3",
   "version": "3.7.6"
  }
 },
 "nbformat": 4,
 "nbformat_minor": 4
}
