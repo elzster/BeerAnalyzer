{
 "cells": [
  {
   "cell_type": "code",
   "execution_count": 1,
   "metadata": {},
   "outputs": [],
   "source": [
    "# Import Libraries\n",
    "import pandas as pd\n",
    "import numpy as np\n",
    "import databricks.koalas as ks\n",
    "\n",
    "from sklearn.feature_extraction.text import CountVectorizer\n",
    "from sklearn.metrics.pairwise import cosine_similarity"
   ]
  },
  {
   "cell_type": "code",
   "execution_count": 2,
   "metadata": {},
   "outputs": [],
   "source": [
    "# Insert CSV\n",
    "df_combined_features = pd.read_csv('combined_features_by_reviews_city.csv')\n",
    "df_combined_features = df_combined_features.rename(columns={\"Beer Names\": \"beer_name\", \"Index\": \"index\"})"
   ]
  },
  {
   "cell_type": "code",
   "execution_count": 3,
   "metadata": {},
   "outputs": [],
   "source": [
    "# Change values below where needed based on your CSV and what you want to find\n",
    "# Helper function to get the title from the index\n",
    "def get_title_from_index (index):\n",
    "    return df_combined_features[df_combined_features.index == index][\"beer_name\"].values[0]\n",
    "\n",
    "# # Helper function to get the index from the title\n",
    "def get_index_from_title(beer_name):\n",
    "    return df_combined_features[df_combined_features.beer_name == beer_name][\"index\"].values[0]"
   ]
  },
  {
   "cell_type": "code",
   "execution_count": 4,
   "metadata": {},
   "outputs": [
    {
     "data": {
      "text/html": [
       "<div>\n",
       "<style scoped>\n",
       "    .dataframe tbody tr th:only-of-type {\n",
       "        vertical-align: middle;\n",
       "    }\n",
       "\n",
       "    .dataframe tbody tr th {\n",
       "        vertical-align: top;\n",
       "    }\n",
       "\n",
       "    .dataframe thead th {\n",
       "        text-align: right;\n",
       "    }\n",
       "</style>\n",
       "<table border=\"1\" class=\"dataframe\">\n",
       "  <thead>\n",
       "    <tr style=\"text-align: right;\">\n",
       "      <th></th>\n",
       "      <th>Unnamed: 0</th>\n",
       "      <th>index</th>\n",
       "      <th>beer_name</th>\n",
       "      <th>Locations</th>\n",
       "      <th>Reviews</th>\n",
       "      <th>Image</th>\n",
       "      <th>City</th>\n",
       "      <th>combined_features</th>\n",
       "    </tr>\n",
       "  </thead>\n",
       "  <tbody>\n",
       "    <tr>\n",
       "      <th>0</th>\n",
       "      <td>0</td>\n",
       "      <td>0</td>\n",
       "      <td>Cloudwater A Scabrous Edge Of The Sky</td>\n",
       "      <td>Manchester, Greater Manchester</td>\n",
       "      <td>Light fresh fruit, light floral note, hazy gol...</td>\n",
       "      <td>https://res.cloudinary.com/ratebeer/image/uplo...</td>\n",
       "      <td>Manchester</td>\n",
       "      <td>Light fresh fruit, light floral note, hazy gol...</td>\n",
       "    </tr>\n",
       "    <tr>\n",
       "      <th>1</th>\n",
       "      <td>1</td>\n",
       "      <td>1</td>\n",
       "      <td>Temperance Might Meets Right: Hot Cocoa</td>\n",
       "      <td>Evanston, Illinois</td>\n",
       "      <td>Aromas of chocolate bourbon oak toffee cocoa t...</td>\n",
       "      <td>https://res.cloudinary.com/ratebeer/image/uplo...</td>\n",
       "      <td>Evanston</td>\n",
       "      <td>Aromas of chocolate bourbon oak toffee cocoa t...</td>\n",
       "    </tr>\n",
       "    <tr>\n",
       "      <th>2</th>\n",
       "      <td>2</td>\n",
       "      <td>2</td>\n",
       "      <td>Pipeworks Barrel Aged The Brown and Stirred</td>\n",
       "      <td>Chicago, Illinois</td>\n",
       "      <td>Pours opaque cinnamon, no head. Aroma features...</td>\n",
       "      <td>https://res.cloudinary.com/ratebeer/image/uplo...</td>\n",
       "      <td>Chicago</td>\n",
       "      <td>Pours opaque cinnamon, no head. Aroma features...</td>\n",
       "    </tr>\n",
       "    <tr>\n",
       "      <th>3</th>\n",
       "      <td>3</td>\n",
       "      <td>3</td>\n",
       "      <td>Camba Bavaria 4 Sessions</td>\n",
       "      <td>Seeon, Bavaria</td>\n",
       "      <td>Schaum: fein, gut.\\nFarbe: orange-Gold, leicht...</td>\n",
       "      <td>https://res.cloudinary.com/ratebeer/image/uplo...</td>\n",
       "      <td>Seeon</td>\n",
       "      <td>Schaum: fein, gut.\\nFarbe: orange-Gold, leicht...</td>\n",
       "    </tr>\n",
       "    <tr>\n",
       "      <th>4</th>\n",
       "      <td>4</td>\n",
       "      <td>4</td>\n",
       "      <td>Rock &amp; Roll Bramble On</td>\n",
       "      <td>Birmingham - Hockley, West Midlands</td>\n",
       "      <td>Cask @ the brewhouse. Nice head with good dura...</td>\n",
       "      <td>https://res.cloudinary.com/ratebeer/image/uplo...</td>\n",
       "      <td>Birmingham - Hockley</td>\n",
       "      <td>Cask @ the brewhouse. Nice head with good dura...</td>\n",
       "    </tr>\n",
       "  </tbody>\n",
       "</table>\n",
       "</div>"
      ],
      "text/plain": [
       "   Unnamed: 0  index                                    beer_name  \\\n",
       "0           0      0        Cloudwater A Scabrous Edge Of The Sky   \n",
       "1           1      1      Temperance Might Meets Right: Hot Cocoa   \n",
       "2           2      2  Pipeworks Barrel Aged The Brown and Stirred   \n",
       "3           3      3                    Camba Bavaria 4 Sessions    \n",
       "4           4      4                       Rock & Roll Bramble On   \n",
       "\n",
       "                             Locations  \\\n",
       "0       Manchester, Greater Manchester   \n",
       "1                   Evanston, Illinois   \n",
       "2                    Chicago, Illinois   \n",
       "3                       Seeon, Bavaria   \n",
       "4  Birmingham - Hockley, West Midlands   \n",
       "\n",
       "                                             Reviews  \\\n",
       "0  Light fresh fruit, light floral note, hazy gol...   \n",
       "1  Aromas of chocolate bourbon oak toffee cocoa t...   \n",
       "2  Pours opaque cinnamon, no head. Aroma features...   \n",
       "3  Schaum: fein, gut.\\nFarbe: orange-Gold, leicht...   \n",
       "4  Cask @ the brewhouse. Nice head with good dura...   \n",
       "\n",
       "                                               Image                  City  \\\n",
       "0  https://res.cloudinary.com/ratebeer/image/uplo...            Manchester   \n",
       "1  https://res.cloudinary.com/ratebeer/image/uplo...              Evanston   \n",
       "2  https://res.cloudinary.com/ratebeer/image/uplo...               Chicago   \n",
       "3  https://res.cloudinary.com/ratebeer/image/uplo...                 Seeon   \n",
       "4  https://res.cloudinary.com/ratebeer/image/uplo...  Birmingham - Hockley   \n",
       "\n",
       "                                   combined_features  \n",
       "0  Light fresh fruit, light floral note, hazy gol...  \n",
       "1  Aromas of chocolate bourbon oak toffee cocoa t...  \n",
       "2  Pours opaque cinnamon, no head. Aroma features...  \n",
       "3  Schaum: fein, gut.\\nFarbe: orange-Gold, leicht...  \n",
       "4  Cask @ the brewhouse. Nice head with good dura...  "
      ]
     },
     "execution_count": 4,
     "metadata": {},
     "output_type": "execute_result"
    }
   ],
   "source": [
    "# Clean, Preview new dataframe here\n",
    "# df_combined_features = df_combined_features.drop(['Unnamed: 0'])\n",
    "df_combined_features = df_combined_features.drop_duplicates('beer_name')\n",
    "df_combined_features.head()"
   ]
  },
  {
   "cell_type": "code",
   "execution_count": 5,
   "metadata": {},
   "outputs": [],
   "source": [
    "# Convert a collection of text to a matrix of token counts\n",
    "count_matrix = CountVectorizer().fit_transform(df_combined_features[\"combined_features\"])"
   ]
  },
  {
   "cell_type": "code",
   "execution_count": 6,
   "metadata": {},
   "outputs": [],
   "source": [
    "# Get the cosine similarity matrix from the count matrix\n",
    "cosine_sim = cosine_similarity(count_matrix)"
   ]
  },
  {
   "cell_type": "code",
   "execution_count": 7,
   "metadata": {},
   "outputs": [],
   "source": [
    "# print(cosine_sim)"
   ]
  },
  {
   "cell_type": "code",
   "execution_count": 8,
   "metadata": {},
   "outputs": [
    {
     "data": {
      "text/plain": [
       "(4917, 4917)"
      ]
     },
     "execution_count": 8,
     "metadata": {},
     "output_type": "execute_result"
    }
   ],
   "source": [
    "# Get the number of rows and columns in cosine_sim\n",
    "cosine_sim.shape"
   ]
  },
  {
   "cell_type": "code",
   "execution_count": 9,
   "metadata": {},
   "outputs": [
    {
     "name": "stdout",
     "output_type": "stream",
     "text": [
      "Index : 245\n",
      "Beer Name: Stonewood Anno 1136\n"
     ]
    }
   ],
   "source": [
    "# Testing index - trying to match index with beer_name\n",
    "print(f'Index : {df_combined_features[\"index\"][245]}')\n",
    "print(f'Beer Name: {df_combined_features[\"beer_name\"][245]}')"
   ]
  },
  {
   "cell_type": "code",
   "execution_count": 10,
   "metadata": {},
   "outputs": [
    {
     "name": "stdout",
     "output_type": "stream",
     "text": [
      "Beer Name: Temperance Might Meets Right: Hot Cocoa\n"
     ]
    }
   ],
   "source": [
    "# Get the title of the beer that the user likes\n",
    "beer_user_likes = input(\"Beer Name: \")\n",
    "\n",
    "# Find that movies index\n",
    "beer_index = get_index_from_title(beer_user_likes)"
   ]
  },
  {
   "cell_type": "code",
   "execution_count": 11,
   "metadata": {},
   "outputs": [
    {
     "data": {
      "text/plain": [
       "1"
      ]
     },
     "execution_count": 11,
     "metadata": {},
     "output_type": "execute_result"
    }
   ],
   "source": [
    "# Beer location\n",
    "beer_index"
   ]
  },
  {
   "cell_type": "code",
   "execution_count": 12,
   "metadata": {},
   "outputs": [],
   "source": [
    "# Enumerate through all the similarity scores of the beer_user_likes to make\n",
    "# a tuple of \"beer_index\" and similarity scores\n",
    "# NOTE: we will return a list of tuples in the form (beer_index, similarity score)\n",
    "\n",
    "similar_beers = list(enumerate(cosine_sim[beer_index]))"
   ]
  },
  {
   "cell_type": "code",
   "execution_count": 13,
   "metadata": {},
   "outputs": [],
   "source": [
    "# similar_beers"
   ]
  },
  {
   "cell_type": "code",
   "execution_count": 14,
   "metadata": {},
   "outputs": [],
   "source": [
    "# Sort the list of silimar beers sccording to the similarity scores in decending order\n",
    "sorted_similar_beers = sorted(similar_beers,key = lambda x:x[1], reverse = True)[1:]"
   ]
  },
  {
   "cell_type": "code",
   "execution_count": 15,
   "metadata": {},
   "outputs": [],
   "source": [
    "# sorted_similar_beers"
   ]
  },
  {
   "cell_type": "code",
   "execution_count": 16,
   "metadata": {},
   "outputs": [
    {
     "name": "stdout",
     "output_type": "stream",
     "text": [
      "Top 5 beers similar to 'Temperance Might Meets Right: Hot Cocoa' are: \n",
      "\n",
      "------------------------------------------------------------\n",
      "\n",
      "* Beer Name: Cascade Lakes RDM DIPA\n",
      "\n",
      "* Beer Name: Squatters Hop Rising Tropical Double IPA\n",
      "\n",
      "* Beer Name: Hogs Back Englands Glory\n",
      "\n",
      "* Beer Name: Wylam The Economic Growth Of The Geek\n",
      "\n",
      "* Beer Name: Evil Twin Watermelon Spritzer\n",
      "\n",
      "------------------------------------------------------------\n"
     ]
    }
   ],
   "source": [
    "# Looping to find similar beers, using the helper functions\n",
    "i=0\n",
    "print(f\"Top 5 beers similar to '{beer_user_likes}' are: \")\n",
    "print(f\"\\n------------------------------------------------------------\")\n",
    "for element in sorted_similar_beers:\n",
    "    print(f\"\\n* Beer Name: {get_title_from_index(element[0])}\")\n",
    "    i=i+1\n",
    "    if i>=5:\n",
    "        break\n",
    "\n",
    "print(f\"\\n------------------------------------------------------------\")"
   ]
  },
  {
   "cell_type": "code",
   "execution_count": 17,
   "metadata": {},
   "outputs": [
    {
     "name": "stdout",
     "output_type": "stream",
     "text": [
      "Top 5 beers similar to 'Temperance Might Meets Right: Hot Cocoa' are: \n",
      "\n",
      "------------------------------------------------------------\n",
      "\n",
      "* Beer Name: Cascade Lakes RDM DIPA \n",
      "* Similarity Score:  0.5930469674071855\n",
      "\n",
      "* Beer Name: Squatters Hop Rising Tropical Double IPA \n",
      "* Similarity Score:  0.5689255871169124\n",
      "\n",
      "* Beer Name: Hogs Back Englands Glory \n",
      "* Similarity Score:  0.5245305283129622\n",
      "\n",
      "* Beer Name: Wylam The Economic Growth Of The Geek \n",
      "* Similarity Score:  0.5135525910130955\n",
      "\n",
      "* Beer Name: Evil Twin Watermelon Spritzer \n",
      "* Similarity Score:  0.4111364906901773\n",
      "\n",
      "------------------------------------------------------------\n"
     ]
    }
   ],
   "source": [
    "# Printing beer names and similarity scores\n",
    "i=0\n",
    "print(f\"Top 5 beers similar to '{beer_user_likes}' are: \")\n",
    "print(f\"\\n------------------------------------------------------------\")\n",
    "for i in range( len(sorted_similar_beers)):\n",
    "    print('\\n* Beer Name:',get_title_from_index(sorted_similar_beers[i][0]), '\\n* Similarity Score: ' ,sorted_similar_beers[i][1] )\n",
    "    i=i+1\n",
    "    if i>=5:\n",
    "        break \n",
    "\n",
    "print(f\"\\n------------------------------------------------------------\")"
   ]
  },
  {
   "cell_type": "code",
   "execution_count": null,
   "metadata": {},
   "outputs": [],
   "source": []
  }
 ],
 "metadata": {
  "kernelspec": {
   "display_name": "Python 3",
   "language": "python",
   "name": "python3"
  },
  "language_info": {
   "codemirror_mode": {
    "name": "ipython",
    "version": 3
   },
   "file_extension": ".py",
   "mimetype": "text/x-python",
   "name": "python",
   "nbconvert_exporter": "python",
   "pygments_lexer": "ipython3",
   "version": "3.7.6"
  }
 },
 "nbformat": 4,
 "nbformat_minor": 4
}
